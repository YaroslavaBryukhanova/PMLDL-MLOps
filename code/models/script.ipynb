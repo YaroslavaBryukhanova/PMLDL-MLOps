{
 "cells": [
  {
   "cell_type": "code",
   "execution_count": 18,
   "metadata": {},
   "outputs": [],
   "source": [
    "import pandas as pd\n",
    "import numpy as np\n",
    "import matplotlib.pyplot as plt\n",
    "import seaborn as sns\n",
    "import warnings\n",
    "warnings.filterwarnings(\"ignore\",category = FutureWarning)"
   ]
  },
  {
   "cell_type": "code",
   "execution_count": 19,
   "metadata": {},
   "outputs": [
    {
     "data": {
      "text/html": [
       "<div>\n",
       "<style scoped>\n",
       "    .dataframe tbody tr th:only-of-type {\n",
       "        vertical-align: middle;\n",
       "    }\n",
       "\n",
       "    .dataframe tbody tr th {\n",
       "        vertical-align: top;\n",
       "    }\n",
       "\n",
       "    .dataframe thead th {\n",
       "        text-align: right;\n",
       "    }\n",
       "</style>\n",
       "<table border=\"1\" class=\"dataframe\">\n",
       "  <thead>\n",
       "    <tr style=\"text-align: right;\">\n",
       "      <th></th>\n",
       "      <th>Company</th>\n",
       "      <th>Product</th>\n",
       "      <th>TypeName</th>\n",
       "      <th>Inches</th>\n",
       "      <th>ScreenResolution</th>\n",
       "      <th>CPU_Company</th>\n",
       "      <th>CPU_Type</th>\n",
       "      <th>CPU_Frequency (GHz)</th>\n",
       "      <th>RAM (GB)</th>\n",
       "      <th>Memory</th>\n",
       "      <th>GPU_Company</th>\n",
       "      <th>GPU_Type</th>\n",
       "      <th>OpSys</th>\n",
       "      <th>Weight (kg)</th>\n",
       "      <th>Price (Euro)</th>\n",
       "    </tr>\n",
       "  </thead>\n",
       "  <tbody>\n",
       "    <tr>\n",
       "      <th>0</th>\n",
       "      <td>Apple</td>\n",
       "      <td>MacBook Pro</td>\n",
       "      <td>Ultrabook</td>\n",
       "      <td>13.3</td>\n",
       "      <td>IPS Panel Retina Display 2560x1600</td>\n",
       "      <td>Intel</td>\n",
       "      <td>Core i5</td>\n",
       "      <td>2.3</td>\n",
       "      <td>8</td>\n",
       "      <td>128GB SSD</td>\n",
       "      <td>Intel</td>\n",
       "      <td>Iris Plus Graphics 640</td>\n",
       "      <td>macOS</td>\n",
       "      <td>1.37</td>\n",
       "      <td>1339.69</td>\n",
       "    </tr>\n",
       "    <tr>\n",
       "      <th>1</th>\n",
       "      <td>Apple</td>\n",
       "      <td>Macbook Air</td>\n",
       "      <td>Ultrabook</td>\n",
       "      <td>13.3</td>\n",
       "      <td>1440x900</td>\n",
       "      <td>Intel</td>\n",
       "      <td>Core i5</td>\n",
       "      <td>1.8</td>\n",
       "      <td>8</td>\n",
       "      <td>128GB Flash Storage</td>\n",
       "      <td>Intel</td>\n",
       "      <td>HD Graphics 6000</td>\n",
       "      <td>macOS</td>\n",
       "      <td>1.34</td>\n",
       "      <td>898.94</td>\n",
       "    </tr>\n",
       "    <tr>\n",
       "      <th>2</th>\n",
       "      <td>HP</td>\n",
       "      <td>250 G6</td>\n",
       "      <td>Notebook</td>\n",
       "      <td>15.6</td>\n",
       "      <td>Full HD 1920x1080</td>\n",
       "      <td>Intel</td>\n",
       "      <td>Core i5 7200U</td>\n",
       "      <td>2.5</td>\n",
       "      <td>8</td>\n",
       "      <td>256GB SSD</td>\n",
       "      <td>Intel</td>\n",
       "      <td>HD Graphics 620</td>\n",
       "      <td>No OS</td>\n",
       "      <td>1.86</td>\n",
       "      <td>575.00</td>\n",
       "    </tr>\n",
       "    <tr>\n",
       "      <th>3</th>\n",
       "      <td>Apple</td>\n",
       "      <td>MacBook Pro</td>\n",
       "      <td>Ultrabook</td>\n",
       "      <td>15.4</td>\n",
       "      <td>IPS Panel Retina Display 2880x1800</td>\n",
       "      <td>Intel</td>\n",
       "      <td>Core i7</td>\n",
       "      <td>2.7</td>\n",
       "      <td>16</td>\n",
       "      <td>512GB SSD</td>\n",
       "      <td>AMD</td>\n",
       "      <td>Radeon Pro 455</td>\n",
       "      <td>macOS</td>\n",
       "      <td>1.83</td>\n",
       "      <td>2537.45</td>\n",
       "    </tr>\n",
       "    <tr>\n",
       "      <th>4</th>\n",
       "      <td>Apple</td>\n",
       "      <td>MacBook Pro</td>\n",
       "      <td>Ultrabook</td>\n",
       "      <td>13.3</td>\n",
       "      <td>IPS Panel Retina Display 2560x1600</td>\n",
       "      <td>Intel</td>\n",
       "      <td>Core i5</td>\n",
       "      <td>3.1</td>\n",
       "      <td>8</td>\n",
       "      <td>256GB SSD</td>\n",
       "      <td>Intel</td>\n",
       "      <td>Iris Plus Graphics 650</td>\n",
       "      <td>macOS</td>\n",
       "      <td>1.37</td>\n",
       "      <td>1803.60</td>\n",
       "    </tr>\n",
       "  </tbody>\n",
       "</table>\n",
       "</div>"
      ],
      "text/plain": [
       "  Company      Product   TypeName  Inches                    ScreenResolution  \\\n",
       "0   Apple  MacBook Pro  Ultrabook    13.3  IPS Panel Retina Display 2560x1600   \n",
       "1   Apple  Macbook Air  Ultrabook    13.3                            1440x900   \n",
       "2      HP       250 G6   Notebook    15.6                   Full HD 1920x1080   \n",
       "3   Apple  MacBook Pro  Ultrabook    15.4  IPS Panel Retina Display 2880x1800   \n",
       "4   Apple  MacBook Pro  Ultrabook    13.3  IPS Panel Retina Display 2560x1600   \n",
       "\n",
       "  CPU_Company       CPU_Type  CPU_Frequency (GHz)  RAM (GB)  \\\n",
       "0       Intel        Core i5                  2.3         8   \n",
       "1       Intel        Core i5                  1.8         8   \n",
       "2       Intel  Core i5 7200U                  2.5         8   \n",
       "3       Intel        Core i7                  2.7        16   \n",
       "4       Intel        Core i5                  3.1         8   \n",
       "\n",
       "                Memory GPU_Company                GPU_Type  OpSys  \\\n",
       "0            128GB SSD       Intel  Iris Plus Graphics 640  macOS   \n",
       "1  128GB Flash Storage       Intel        HD Graphics 6000  macOS   \n",
       "2            256GB SSD       Intel         HD Graphics 620  No OS   \n",
       "3            512GB SSD         AMD          Radeon Pro 455  macOS   \n",
       "4            256GB SSD       Intel  Iris Plus Graphics 650  macOS   \n",
       "\n",
       "   Weight (kg)  Price (Euro)  \n",
       "0         1.37       1339.69  \n",
       "1         1.34        898.94  \n",
       "2         1.86        575.00  \n",
       "3         1.83       2537.45  \n",
       "4         1.37       1803.60  "
      ]
     },
     "execution_count": 19,
     "metadata": {},
     "output_type": "execute_result"
    }
   ],
   "source": [
    "df = pd.read_csv('../../data/data.csv')\n",
    "df.head()"
   ]
  },
  {
   "cell_type": "code",
   "execution_count": 20,
   "metadata": {},
   "outputs": [
    {
     "name": "stdout",
     "output_type": "stream",
     "text": [
      "<class 'pandas.core.frame.DataFrame'>\n",
      "RangeIndex: 1275 entries, 0 to 1274\n",
      "Data columns (total 15 columns):\n",
      " #   Column               Non-Null Count  Dtype  \n",
      "---  ------               --------------  -----  \n",
      " 0   Company              1275 non-null   object \n",
      " 1   Product              1275 non-null   object \n",
      " 2   TypeName             1275 non-null   object \n",
      " 3   Inches               1275 non-null   float64\n",
      " 4   ScreenResolution     1275 non-null   object \n",
      " 5   CPU_Company          1275 non-null   object \n",
      " 6   CPU_Type             1275 non-null   object \n",
      " 7   CPU_Frequency (GHz)  1275 non-null   float64\n",
      " 8   RAM (GB)             1275 non-null   int64  \n",
      " 9   Memory               1275 non-null   object \n",
      " 10  GPU_Company          1275 non-null   object \n",
      " 11  GPU_Type             1275 non-null   object \n",
      " 12  OpSys                1275 non-null   object \n",
      " 13  Weight (kg)          1275 non-null   float64\n",
      " 14  Price (Euro)         1275 non-null   float64\n",
      "dtypes: float64(4), int64(1), object(10)\n",
      "memory usage: 149.5+ KB\n"
     ]
    }
   ],
   "source": [
    "df.info()"
   ]
  },
  {
   "cell_type": "code",
   "execution_count": 21,
   "metadata": {},
   "outputs": [
    {
     "data": {
      "text/plain": [
       "Company                0\n",
       "Product                0\n",
       "TypeName               0\n",
       "Inches                 0\n",
       "ScreenResolution       0\n",
       "CPU_Company            0\n",
       "CPU_Type               0\n",
       "CPU_Frequency (GHz)    0\n",
       "RAM (GB)               0\n",
       "Memory                 0\n",
       "GPU_Company            0\n",
       "GPU_Type               0\n",
       "OpSys                  0\n",
       "Weight (kg)            0\n",
       "Price (Euro)           0\n",
       "dtype: int64"
      ]
     },
     "execution_count": 21,
     "metadata": {},
     "output_type": "execute_result"
    }
   ],
   "source": [
    "df.isnull().sum()"
   ]
  },
  {
   "cell_type": "code",
   "execution_count": 22,
   "metadata": {},
   "outputs": [
    {
     "data": {
      "text/plain": [
       "(Index(['Inches', 'CPU_Frequency (GHz)', 'RAM (GB)', 'Weight (kg)',\n",
       "        'Price (Euro)'],\n",
       "       dtype='object'),\n",
       " Index(['Company', 'Product', 'TypeName', 'ScreenResolution', 'CPU_Company',\n",
       "        'CPU_Type', 'Memory', 'GPU_Company', 'GPU_Type', 'OpSys'],\n",
       "       dtype='object'))"
      ]
     },
     "execution_count": 22,
     "metadata": {},
     "output_type": "execute_result"
    }
   ],
   "source": [
    "Numerical_columns = df.select_dtypes(exclude = 'object').columns\n",
    "Categorical_columns = df.select_dtypes(include = 'object').columns\n",
    "Numerical_columns,Categorical_columns"
   ]
  },
  {
   "cell_type": "code",
   "execution_count": 23,
   "metadata": {},
   "outputs": [
    {
     "data": {
      "image/png": "[encoded data removed]",
      "text/plain": [
       "<Figure size 1200x1200 with 1 Axes>"
      ]
     },
     "metadata": {},
     "output_type": "display_data"
    }
   ],
   "source": [
    "plt.figure(figsize =(12,12))\n",
    "sns.histplot(data = df ,x='Price (Euro)',kde =True,bins =30 )\n",
    "plt.show()"
   ]
  },
  {
   "cell_type": "code",
   "execution_count": 24,
   "metadata": {},
   "outputs": [],
   "source": [
    "X = df.drop(columns= 'Price (Euro)')\n",
    "y = df['Price (Euro)']"
   ]
  },
  {
   "cell_type": "code",
   "execution_count": 25,
   "metadata": {},
   "outputs": [],
   "source": [
    "from sklearn.preprocessing import StandardScaler\n",
    "\n",
    "label_scaler = StandardScaler()\n",
    "y = label_scaler.fit_transform(y.values.reshape(-1,1))"
   ]
  },
  {
   "cell_type": "code",
   "execution_count": 26,
   "metadata": {},
   "outputs": [],
   "source": [
    "from sklearn.preprocessing import LabelEncoder\n",
    "\n",
    "encoders = {}\n",
    "\n",
    "for cols in X.select_dtypes('object').columns:\n",
    "    label = LabelEncoder()\n",
    "    X[cols]=label.fit_transform(X[cols])\n",
    "    encoders[cols] = label"
   ]
  },
  {
   "cell_type": "code",
   "execution_count": 27,
   "metadata": {},
   "outputs": [],
   "source": [
    "feature_scaler = StandardScaler()\n",
    "X = feature_scaler.fit_transform(X)"
   ]
  },
  {
   "cell_type": "code",
   "execution_count": 28,
   "metadata": {},
   "outputs": [],
   "source": [
    "from sklearn.preprocessing import StandardScaler\n",
    "\n",
    "scaler = StandardScaler()\n",
    "df[Numerical_columns] = scaler.fit_transform(df[Numerical_columns])"
   ]
  },
  {
   "cell_type": "code",
   "execution_count": 29,
   "metadata": {},
   "outputs": [],
   "source": [
    "from sklearn.model_selection import train_test_split\n",
    "\n",
    "X_train , X_test , y_train , y_test = train_test_split(X, y, test_size =0.2)"
   ]
  },
  {
   "cell_type": "code",
   "execution_count": 30,
   "metadata": {},
   "outputs": [
    {
     "name": "stderr",
     "output_type": "stream",
     "text": [
      "C:\\Users\\yarab\\AppData\\Roaming\\Python\\Python312\\site-packages\\sklearn\\base.py:1473: DataConversionWarning: A column-vector y was passed when a 1d array was expected. Please change the shape of y to (n_samples,), for example using ravel().\n",
      "  return fit_method(estimator, *args, **kwargs)\n"
     ]
    }
   ],
   "source": [
    "from sklearn.linear_model import LinearRegression\n",
    "from sklearn.ensemble import RandomForestRegressor\n",
    "from sklearn.metrics import mean_squared_error,r2_score\n",
    "\n",
    "model = RandomForestRegressor(n_estimators=100, random_state=0)\n",
    "model.fit(X_train , y_train)\n",
    "\n",
    "y_pred = model.predict(X_test)"
   ]
  },
  {
   "cell_type": "code",
   "execution_count": 31,
   "metadata": {},
   "outputs": [
    {
     "name": "stdout",
     "output_type": "stream",
     "text": [
      "Mean Squared Error: 0.1444056825201819\n",
      "R2 Score: 0.8568994165092295\n"
     ]
    }
   ],
   "source": [
    "print('Mean Squared Error:', mean_squared_error(y_test,y_pred))\n",
    "print('R2 Score:', r2_score(y_test,y_pred))\n"
   ]
  },
  {
   "cell_type": "code",
   "execution_count": 32,
   "metadata": {},
   "outputs": [],
   "source": [
    "y_pred = label_scaler.inverse_transform(y_pred.reshape(-1,1))"
   ]
  },
  {
   "cell_type": "code",
   "execution_count": 34,
   "metadata": {},
   "outputs": [],
   "source": [
    "import pickle\n",
    "\n",
    "with open('../../models/model.pkl','wb') as file:\n",
    "    pickle.dump(model, file)\n",
    "\n",
    "with open('../datasets/encoders.pkl','wb') as file:\n",
    "    pickle.dump(encoders, file)\n",
    "\n",
    "with open('../datasets/num_scaler.pkl','wb') as file:\n",
    "    pickle.dump(scaler, file)\n",
    "\n",
    "with open('../datasets/object_scaler.pkl','wb') as file:\n",
    "    pickle.dump(feature_scaler, file)\n",
    "\n",
    "with open('../datasets/label_scaler.pkl','wb') as file:\n",
    "    pickle.dump(label_scaler, file)"
   ]
  }
 ],
 "metadata": {
  "kernelspec": {
   "display_name": "Python 3",
   "language": "python",
   "name": "python3"
  },
  "language_info": {
   "codemirror_mode": {
    "name": "ipython",
    "version": 3
   },
   "file_extension": ".py",
   "mimetype": "text/x-python",
   "name": "python",
   "nbconvert_exporter": "python",
   "pygments_lexer": "ipython3",
   "version": "3.12.4"
  }
 },
 "nbformat": 4,
 "nbformat_minor": 2
}
